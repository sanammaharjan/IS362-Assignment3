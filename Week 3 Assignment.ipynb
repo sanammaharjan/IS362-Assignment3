{
 "cells": [
  {
   "cell_type": "markdown",
   "metadata": {},
   "source": [
    "# Journey of George's bicycle riding to West Keys, FL from NYC\n",
    "\n",
    "> Its a log of George's journey to florida in miles/day\n",
    "\n",
    "> *Importing required libraries*"
   ]
  },
  {
   "cell_type": "code",
   "execution_count": 18,
   "metadata": {
    "collapsed": true
   },
   "outputs": [],
   "source": [
    "# Import required libraries\n",
    "from pandas import DataFrame\n",
    "import pandas as pd\n",
    "import matplotlib.pyplot as plt\n",
    "import matplotlib as mp\n",
    "import random\n",
    "import numpy as np\n",
    "import pprint\n",
    "\n",
    "# Enable inline plotting\n",
    "%matplotlib inline"
   ]
  },
  {
   "cell_type": "code",
   "execution_count": 87,
   "metadata": {
    "collapsed": true
   },
   "outputs": [],
   "source": [
    "TOTALDISTANCE = 1605 # Its an assumption total mileage\n",
    "DAY1 = 55\n",
    "DAY2 = 65\n",
    "DAILY_MILES = {'DAY1':55, 'DAY2':65}"
   ]
  },
  {
   "cell_type": "markdown",
   "metadata": {},
   "source": [
    "Based on DAY1 and DAY2 riding reference we are going to predict George's total duration of journey.<br>\n",
    "> Average miles he rode in two days is **\"DAY1+DAY2 /2\"**"
   ]
  },
  {
   "cell_type": "code",
   "execution_count": 23,
   "metadata": {},
   "outputs": [
    {
     "name": "stdout",
     "output_type": "stream",
     "text": [
      "George was riding a bycycle in average 60.0 miles a day.\n",
      "Total Distance George has to complete is: 1605 miles\n",
      "In this ratio, he will arrive to West Keys, Florida in 26.75 days\n"
     ]
    }
   ],
   "source": [
    "# Calculating average miles per day and total days to reach florida\n",
    "\n",
    "REF_MILES = [DAY1, DAY2]\n",
    "AVG_MILES_PERDAY = sum(REF_MILES)/len(REF_MILES)\n",
    "TOTAL_DAYS = round((int(TOTALDISTANCE) / int(AVG_MILES_PERDAY)),2)\n",
    "LENGTH = len(REF_MILES)\n",
    "TOTALDAYS = float(TOTAL_DAYS - LENGTH)\n",
    "\n",
    "print('George was riding a bycycle in average {} miles a day.'.format(AVG_MILES_PERDAY))\n",
    "print('Total Distance George has to complete is: {} miles'.format(TOTALDISTANCE))\n",
    "print('In this ratio, he will arrive to West Keys, Florida in {} days'.format(TOTAL_DAYS))\n"
   ]
  },
  {
   "cell_type": "markdown",
   "metadata": {},
   "source": [
    "George's daily riding logs are:"
   ]
  },
  {
   "cell_type": "code",
   "execution_count": 22,
   "metadata": {},
   "outputs": [
    {
     "name": "stdout",
     "output_type": "stream",
     "text": [
      "Daily miles in log {'DAY1': 55, 'DAY2': 65, 'DAY3': 64, 'DAY4': 60, 'DAY5': 56, 'DAY6': 58, 'DAY7': 62, 'DAY8': 56, 'DAY9': 55, 'DAY10': 65, 'DAY11': 58, 'DAY12': 58, 'DAY13': 56, 'DAY14': 63, 'DAY15': 63, 'DAY16': 63, 'DAY17': 65, 'DAY18': 62, 'DAY19': 62, 'DAY20': 55, 'DAY21': 62, 'DAY22': 62, 'DAY23': 64, 'DAY24': 59, 'DAY25': 57, 'DAY26': 55, 'DAY27': 62}\n",
      "Sum of Daily Miles : 1622\n",
      "{   'DAY1': 55,\n",
      "    'DAY10': 65,\n",
      "    'DAY11': 58,\n",
      "    'DAY12': 58,\n",
      "    'DAY13': 56,\n",
      "    'DAY14': 63,\n",
      "    'DAY15': 63,\n",
      "    'DAY16': 63,\n",
      "    'DAY17': 65,\n",
      "    'DAY18': 62,\n",
      "    'DAY19': 62,\n",
      "    'DAY2': 65,\n",
      "    'DAY20': 55,\n",
      "    'DAY21': 62,\n",
      "    'DAY22': 62,\n",
      "    'DAY23': 64,\n",
      "    'DAY24': 59,\n",
      "    'DAY25': 57,\n",
      "    'DAY26': 55,\n",
      "    'DAY27': 62,\n",
      "    'DAY3': 64,\n",
      "    'DAY4': 60,\n",
      "    'DAY5': 56,\n",
      "    'DAY6': 58,\n",
      "    'DAY7': 62,\n",
      "    'DAY8': 56,\n",
      "    'DAY9': 55}\n"
     ]
    }
   ],
   "source": [
    "COUNT = 0\n",
    "DAILY_LOG =[]\n",
    "DCOUNT= 2\n",
    "while COUNT != TOTALDAYS:\n",
    "    RAN = random.randint(DAY1, DAY2)\n",
    "    DCOUNT+=1\n",
    "    DAY = 'DAY'+str(DCOUNT)\n",
    "    DAILY_MILES[DAY] = RAN\n",
    "    #DAILY_LOG.append(RAN)\n",
    "    COUNT+=1\n",
    "    MILES_SUM = sum(DAILY_MILES.values())\n",
    "    if MILES_SUM >= TOTALDISTANCE:\n",
    "        break\n",
    "        \n",
    "print('Daily miles in log {}'.format(DAILY_MILES))\n",
    "MILEAGE_SUM = sum(DAILY_MILES.values())\n",
    "\n",
    "print('Sum of Daily Miles : {}'.format(MILEAGE_SUM))\n",
    "\n",
    "PLIST = pprint.PrettyPrinter(indent=4)\n",
    "PLIST.pprint(DAILY_MILES)"
   ]
  },
  {
   "cell_type": "markdown",
   "metadata": {},
   "source": [
    "Sine, we already have daily mileage, we can get a odometer easily my adding previous day's odometer to today's odomter."
   ]
  },
  {
   "cell_type": "code",
   "execution_count": 80,
   "metadata": {},
   "outputs": [
    {
     "name": "stdout",
     "output_type": "stream",
     "text": [
      "{'DAY1': 55, 'DAY2': 120, 'DAY3': 180, 'DAY4': 241, 'DAY5': 300, 'DAY6': 365, 'DAY7': 430, 'DAY8': 485, 'DAY9': 550, 'DAY10': 607, 'DAY11': 668, 'DAY12': 726, 'DAY13': 785, 'DAY14': 849, 'DAY15': 907, 'DAY16': 963, 'DAY17': 1026, 'DAY18': 1090, 'DAY19': 1153, 'DAY20': 1215, 'DAY21': 1275, 'DAY22': 1337, 'DAY23': 1401, 'DAY24': 1459, 'DAY25': 1520, 'DAY26': 1581, 'DAY27': 1638}\n"
     ]
    }
   ],
   "source": [
    "ODOMETER = {}\n",
    "CUM_M = 0\n",
    "for D,V in DAILY_MILES.items():\n",
    "    CUM_M=CUM_M+V\n",
    "    ODOMETER[D]=CUM_M\n",
    "print (ODOMETER)"
   ]
  },
  {
   "cell_type": "markdown",
   "metadata": {},
   "source": [
    "*Using a panda.Series to print daily odometer*"
   ]
  },
  {
   "cell_type": "code",
   "execution_count": 96,
   "metadata": {},
   "outputs": [
    {
     "data": {
      "text/plain": [
       "DAY1       55\n",
       "DAY2      120\n",
       "DAY3      180\n",
       "DAY4      241\n",
       "DAY5      300\n",
       "DAY6      365\n",
       "DAY7      430\n",
       "DAY8      485\n",
       "DAY9      550\n",
       "DAY10     607\n",
       "DAY11     668\n",
       "DAY12     726\n",
       "DAY13     785\n",
       "DAY14     849\n",
       "DAY15     907\n",
       "DAY16     963\n",
       "DAY17    1026\n",
       "DAY18    1090\n",
       "DAY19    1153\n",
       "DAY20    1215\n",
       "DAY21    1275\n",
       "DAY22    1337\n",
       "DAY23    1401\n",
       "DAY24    1459\n",
       "DAY25    1520\n",
       "DAY26    1581\n",
       "DAY27    1638\n",
       "dtype: int64"
      ]
     },
     "execution_count": 96,
     "metadata": {},
     "output_type": "execute_result"
    }
   ],
   "source": [
    "ODO_SERIES = pd.Series(ODOMETER)\n",
    "ODO_SERIES.sort_values(ascending=True)"
   ]
  }
 ],
 "metadata": {
  "kernelspec": {
   "display_name": "Python 3",
   "language": "python",
   "name": "python3"
  },
  "language_info": {
   "codemirror_mode": {
    "name": "ipython",
    "version": 3
   },
   "file_extension": ".py",
   "mimetype": "text/x-python",
   "name": "python",
   "nbconvert_exporter": "python",
   "pygments_lexer": "ipython3",
   "version": "3.6.2"
  }
 },
 "nbformat": 4,
 "nbformat_minor": 2
}
